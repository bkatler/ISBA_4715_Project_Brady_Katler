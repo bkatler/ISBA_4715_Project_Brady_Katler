{
 "cells": [
  {
   "cell_type": "code",
   "execution_count": 30,
   "id": "3e83750c-7bdc-43b8-b5a5-f5ee63c9df80",
   "metadata": {},
   "outputs": [],
   "source": [
    "# Importing Libraries to Python - added MySQLdb to remove error when connecting to Database\n",
    "import pandas as pd\n",
    "from sqlalchemy import create_engine, text\n",
    "import pymysql"
   ]
  },
  {
   "cell_type": "code",
   "execution_count": 31,
   "id": "a1cce893-80ac-4a7b-b9d0-0d16168d94cb",
   "metadata": {},
   "outputs": [],
   "source": [
    "#Importing BA CSV data\n",
    "ba_data_df = pd.read_csv('ba_stock_data.csv')"
   ]
  },
  {
   "cell_type": "code",
   "execution_count": 32,
   "id": "d3d2023c-7748-4d66-935d-b7554fbf8b0e",
   "metadata": {},
   "outputs": [],
   "source": [
    "#Importing LMT CSV data\n",
    "lmt_data_df = pd.read_csv('lmt_stock_data.csv')"
   ]
  },
  {
   "cell_type": "code",
   "execution_count": 33,
   "id": "524e7d8c-69bc-4f3b-bb45-acad30bf9c9f",
   "metadata": {},
   "outputs": [],
   "source": [
    "#Importing RTX CSV data\n",
    "rtx_data_df = pd.read_csv('rtx_stock_data.csv')"
   ]
  },
  {
   "cell_type": "code",
   "execution_count": 34,
   "id": "1a73cebc-e560-411d-ba9d-3854e54e8b62",
   "metadata": {},
   "outputs": [],
   "source": [
    "#Importing SPY CSV data\n",
    "spy_data_df = pd.read_csv('spy_stock_data.csv')"
   ]
  },
  {
   "cell_type": "code",
   "execution_count": 35,
   "id": "58c7d75c-fbee-4d83-b356-d9419a86be45",
   "metadata": {},
   "outputs": [],
   "source": [
    "#Database connection info\n",
    "raw_host = \"isba-dev-01.c5ow64oeey8b.us-east-1.rds.amazonaws.com\"\n",
    "raw_username = \"admin\"\n",
    "raw_password = \"isba_4715\"\n",
    "raw_schema = \"sql_project\"\n",
    "\n",
    "# Establish a connection to the MySQL database\n",
    "connection = pymysql.connect(\n",
    "    host=raw_host,\n",
    "    user=raw_username,\n",
    "    password=raw_password,\n",
    "    database=raw_schema\n",
    ")\n",
    "raw_engine = create_engine(f'mysql+pymysql://{raw_username}:{raw_password}@{raw_host}/{raw_schema}')"
   ]
  },
  {
   "cell_type": "code",
   "execution_count": 36,
   "id": "13eaf4aa-5c86-4457-970a-66b472696777",
   "metadata": {},
   "outputs": [
    {
     "data": {
      "text/plain": [
       "293"
      ]
     },
     "execution_count": 36,
     "metadata": {},
     "output_type": "execute_result"
    }
   ],
   "source": [
    "#importing boeing data into mysql\n",
    "ba_table ='ba_stock_data.csv'\n",
    "\n",
    "ba_data_df.to_sql(name=ba_table, con=raw_engine, if_exists=\"replace\", index=False)"
   ]
  },
  {
   "cell_type": "code",
   "execution_count": 37,
   "id": "0c05caaf-20b4-4f86-899d-30b11463634c",
   "metadata": {},
   "outputs": [
    {
     "data": {
      "text/plain": [
       "293"
      ]
     },
     "execution_count": 37,
     "metadata": {},
     "output_type": "execute_result"
    }
   ],
   "source": [
    "#importing lmt data into mysql\n",
    "lmt_table ='lmt_stock_data.csv'\n",
    "\n",
    "lmt_data_df.to_sql(name=lmt_table, con=raw_engine, if_exists=\"replace\", index=False)"
   ]
  },
  {
   "cell_type": "code",
   "execution_count": 38,
   "id": "3cd9dcc4-d2c6-4ad3-996c-91458b26cd5c",
   "metadata": {},
   "outputs": [
    {
     "data": {
      "text/plain": [
       "293"
      ]
     },
     "execution_count": 38,
     "metadata": {},
     "output_type": "execute_result"
    }
   ],
   "source": [
    "#importing rtx data into mysql\n",
    "rtx_table ='rtx_stock_data.csv'\n",
    "\n",
    "rtx_data_df.to_sql(name=rtx_table, con=raw_engine, if_exists=\"replace\", index=False)"
   ]
  },
  {
   "cell_type": "code",
   "execution_count": 39,
   "id": "27c3d982-04e0-48e2-8e50-fcca2ee110f0",
   "metadata": {},
   "outputs": [
    {
     "data": {
      "text/plain": [
       "293"
      ]
     },
     "execution_count": 39,
     "metadata": {},
     "output_type": "execute_result"
    }
   ],
   "source": [
    "#importing spy data into mysql\n",
    "spy_table ='spy_stock_data.csv'\n",
    "\n",
    "spy_data_df.to_sql(name=spy_table, con=raw_engine, if_exists=\"replace\", index=False)"
   ]
  },
  {
   "cell_type": "markdown",
   "id": "8c4bc554-6ada-446e-9f6f-b3a7fcb712bc",
   "metadata": {},
   "source": [
    "# How are sales in top aerospace and defense companies performing relative to the S&P 500 over the last 25 years? Who are the most successful + leaders in the industry?"
   ]
  },
  {
   "cell_type": "code",
   "execution_count": 40,
   "id": "1277db82-ca76-48a7-b515-cfe078447e0f",
   "metadata": {},
   "outputs": [],
   "source": [
    "#Running SQL Query in Pandas\n",
    "sql_query = \"SELECT lsd.date, lsd.closing_price AS lmt_price, bsd.closing_price AS ba_price, rsd.closing_price AS rtx_price, ssd.closing_price AS spy_price FROM ba_stock_data bsd JOIN lmt_stock_data lsd ON bsd.date = lsd.`date` JOIN rtx_stock_data rsd ON rsd.date = lsd.date JOIN spy_stock_data ssd ON ssd.date = rsd.date;\"\n",
    "\n",
    "# Read data from MySQL into a DataFrame\n",
    "df = pd.read_sql(sql_query, con=raw_engine)"
   ]
  },
  {
   "cell_type": "code",
   "execution_count": 41,
   "id": "65be84c7-8aa9-4c31-ae75-31cc63f6a859",
   "metadata": {},
   "outputs": [
    {
     "data": {
      "text/html": [
       "<div>\n",
       "<style scoped>\n",
       "    .dataframe tbody tr th:only-of-type {\n",
       "        vertical-align: middle;\n",
       "    }\n",
       "\n",
       "    .dataframe tbody tr th {\n",
       "        vertical-align: top;\n",
       "    }\n",
       "\n",
       "    .dataframe thead th {\n",
       "        text-align: right;\n",
       "    }\n",
       "</style>\n",
       "<table border=\"1\" class=\"dataframe\">\n",
       "  <thead>\n",
       "    <tr style=\"text-align: right;\">\n",
       "      <th></th>\n",
       "      <th>date</th>\n",
       "      <th>lmt_price</th>\n",
       "      <th>ba_price</th>\n",
       "      <th>rtx_price</th>\n",
       "      <th>spy_price</th>\n",
       "    </tr>\n",
       "  </thead>\n",
       "  <tbody>\n",
       "    <tr>\n",
       "      <th>0</th>\n",
       "      <td>2024-04-24</td>\n",
       "      <td>459.13</td>\n",
       "      <td>164.34</td>\n",
       "      <td>101.06</td>\n",
       "      <td>505.4600</td>\n",
       "    </tr>\n",
       "    <tr>\n",
       "      <th>1</th>\n",
       "      <td>2024-03-28</td>\n",
       "      <td>454.87</td>\n",
       "      <td>192.99</td>\n",
       "      <td>97.53</td>\n",
       "      <td>523.0700</td>\n",
       "    </tr>\n",
       "    <tr>\n",
       "      <th>2</th>\n",
       "      <td>2024-02-29</td>\n",
       "      <td>428.24</td>\n",
       "      <td>203.72</td>\n",
       "      <td>89.67</td>\n",
       "      <td>508.0800</td>\n",
       "    </tr>\n",
       "    <tr>\n",
       "      <th>3</th>\n",
       "      <td>2024-01-31</td>\n",
       "      <td>429.41</td>\n",
       "      <td>211.04</td>\n",
       "      <td>91.12</td>\n",
       "      <td>482.8800</td>\n",
       "    </tr>\n",
       "    <tr>\n",
       "      <th>4</th>\n",
       "      <td>2023-12-29</td>\n",
       "      <td>453.24</td>\n",
       "      <td>260.66</td>\n",
       "      <td>84.14</td>\n",
       "      <td>475.3100</td>\n",
       "    </tr>\n",
       "    <tr>\n",
       "      <th>...</th>\n",
       "      <td>...</td>\n",
       "      <td>...</td>\n",
       "      <td>...</td>\n",
       "      <td>...</td>\n",
       "      <td>...</td>\n",
       "    </tr>\n",
       "    <tr>\n",
       "      <th>288</th>\n",
       "      <td>2000-04-28</td>\n",
       "      <td>24.88</td>\n",
       "      <td>39.69</td>\n",
       "      <td>62.19</td>\n",
       "      <td>145.0937</td>\n",
       "    </tr>\n",
       "    <tr>\n",
       "      <th>289</th>\n",
       "      <td>2000-03-31</td>\n",
       "      <td>20.44</td>\n",
       "      <td>37.81</td>\n",
       "      <td>63.19</td>\n",
       "      <td>150.3750</td>\n",
       "    </tr>\n",
       "    <tr>\n",
       "      <th>290</th>\n",
       "      <td>2000-02-29</td>\n",
       "      <td>17.44</td>\n",
       "      <td>36.94</td>\n",
       "      <td>50.94</td>\n",
       "      <td>137.4375</td>\n",
       "    </tr>\n",
       "    <tr>\n",
       "      <th>291</th>\n",
       "      <td>2000-01-31</td>\n",
       "      <td>18.50</td>\n",
       "      <td>44.50</td>\n",
       "      <td>52.94</td>\n",
       "      <td>139.5625</td>\n",
       "    </tr>\n",
       "    <tr>\n",
       "      <th>292</th>\n",
       "      <td>1999-12-31</td>\n",
       "      <td>21.88</td>\n",
       "      <td>41.44</td>\n",
       "      <td>65.00</td>\n",
       "      <td>146.8750</td>\n",
       "    </tr>\n",
       "  </tbody>\n",
       "</table>\n",
       "<p>293 rows × 5 columns</p>\n",
       "</div>"
      ],
      "text/plain": [
       "           date  lmt_price  ba_price  rtx_price  spy_price\n",
       "0    2024-04-24     459.13    164.34     101.06   505.4600\n",
       "1    2024-03-28     454.87    192.99      97.53   523.0700\n",
       "2    2024-02-29     428.24    203.72      89.67   508.0800\n",
       "3    2024-01-31     429.41    211.04      91.12   482.8800\n",
       "4    2023-12-29     453.24    260.66      84.14   475.3100\n",
       "..          ...        ...       ...        ...        ...\n",
       "288  2000-04-28      24.88     39.69      62.19   145.0937\n",
       "289  2000-03-31      20.44     37.81      63.19   150.3750\n",
       "290  2000-02-29      17.44     36.94      50.94   137.4375\n",
       "291  2000-01-31      18.50     44.50      52.94   139.5625\n",
       "292  1999-12-31      21.88     41.44      65.00   146.8750\n",
       "\n",
       "[293 rows x 5 columns]"
      ]
     },
     "execution_count": 41,
     "metadata": {},
     "output_type": "execute_result"
    }
   ],
   "source": [
    "#SQL Query Results:\n",
    "df"
   ]
  },
  {
   "cell_type": "markdown",
   "id": "b778f8f6-7a32-4854-934e-cf296a473c49",
   "metadata": {},
   "source": [
    "# Insight: LMT has seen roughly 20x growth, BA has seen roughly 4x growth, rtx roughly 55% up relative to 3.5x growth from S&P 500. LMT likely taking actions that promote stable long term growth\n",
    "\n",
    "# Recommendation: LMT projects best for stable future growth, otherwise S&P 500 seems the same or better + safer. Aerospace and defense companies should emulate what makes LMT successful, whether that be product offerings, strong leadership, etc.\n",
    "\n",
    "# Prediction: More successful business operations (if implemented correctly)"
   ]
  },
  {
   "cell_type": "code",
   "execution_count": null,
   "id": "ce6ec9fc-972a-4316-a023-c8723eeaa8f3",
   "metadata": {},
   "outputs": [],
   "source": [
    "# Which stocks have seen the greatest growth since 2020?"
   ]
  },
  {
   "cell_type": "code",
   "execution_count": 42,
   "id": "1467f112-b97f-44ba-8aa5-7298892d5ca0",
   "metadata": {},
   "outputs": [],
   "source": [
    "#Running SQL Query in Pandas\n",
    "sql_query_2 = \"WITH ranked_prices AS (SELECT ssd.date AS dates, lsd.closing_price AS lmt_price, bsd.closing_price AS ba_price, rsd.closing_price AS rtx_price, ssd.closing_price AS spy_price, ROW_NUMBER() OVER(ORDER BY ssd.date DESC) AS ranking FROM lmt_stock_data lsd JOIN ba_stock_data bsd ON bsd.date = lsd.date JOIN rtx_stock_data rsd ON rsd.date = lsd.date JOIN spy_stock_data ssd ON ssd.date = rsd.date WHERE ssd.date >= '2020-01-01' GROUP BY ssd.date ORDER BY ssd.date DESC) SELECT dates, lmt_price, ba_price, rtx_price, spy_price FROM ranked_prices WHERE ranking = 1 OR ranking = 52;\"\n",
    "\n",
    "# Read data from MySQL into a DataFrame\n",
    "df_2 = pd.read_sql(sql_query_2, con=raw_engine)"
   ]
  },
  {
   "cell_type": "code",
   "execution_count": 44,
   "id": "84ce792f-ebeb-4be4-a412-154fd184d202",
   "metadata": {},
   "outputs": [
    {
     "data": {
      "text/html": [
       "<div>\n",
       "<style scoped>\n",
       "    .dataframe tbody tr th:only-of-type {\n",
       "        vertical-align: middle;\n",
       "    }\n",
       "\n",
       "    .dataframe tbody tr th {\n",
       "        vertical-align: top;\n",
       "    }\n",
       "\n",
       "    .dataframe thead th {\n",
       "        text-align: right;\n",
       "    }\n",
       "</style>\n",
       "<table border=\"1\" class=\"dataframe\">\n",
       "  <thead>\n",
       "    <tr style=\"text-align: right;\">\n",
       "      <th></th>\n",
       "      <th>dates</th>\n",
       "      <th>lmt_price</th>\n",
       "      <th>ba_price</th>\n",
       "      <th>rtx_price</th>\n",
       "      <th>spy_price</th>\n",
       "    </tr>\n",
       "  </thead>\n",
       "  <tbody>\n",
       "    <tr>\n",
       "      <th>0</th>\n",
       "      <td>2024-04-24</td>\n",
       "      <td>459.13</td>\n",
       "      <td>164.34</td>\n",
       "      <td>101.06</td>\n",
       "      <td>505.46</td>\n",
       "    </tr>\n",
       "    <tr>\n",
       "      <th>1</th>\n",
       "      <td>2020-01-31</td>\n",
       "      <td>428.12</td>\n",
       "      <td>318.27</td>\n",
       "      <td>150.20</td>\n",
       "      <td>321.73</td>\n",
       "    </tr>\n",
       "  </tbody>\n",
       "</table>\n",
       "</div>"
      ],
      "text/plain": [
       "        dates  lmt_price  ba_price  rtx_price  spy_price\n",
       "0  2024-04-24     459.13    164.34     101.06     505.46\n",
       "1  2020-01-31     428.12    318.27     150.20     321.73"
      ]
     },
     "execution_count": 44,
     "metadata": {},
     "output_type": "execute_result"
    }
   ],
   "source": [
    "#SQL query results:\n",
    "df_2"
   ]
  },
  {
   "cell_type": "markdown",
   "id": "ad250d46-7b48-41ab-80cd-1f42c98afe04",
   "metadata": {},
   "source": [
    "# Insight: LMT has seen a modest 7% growth compared to steep 50% declines for being and 33% for RTX, all way below S&P 500's 57% growth. Indicator as a whole suggests industry has been on a decline.\n",
    "\n",
    "# Recommendation: Airline industry suffered one of the harshest declines from COVID - investigate whether they are just slowly recovering or there are negative projections long term. Good place to look could be closer to the accounting or finance side.\n",
    "\n",
    "# Prediction: Slow market recovery from COVID-19 is the cause - steady growth for 20 years makes me feel optimistic. "
   ]
  }
 ],
 "metadata": {
  "kernelspec": {
   "display_name": "Python 3 (ipykernel)",
   "language": "python",
   "name": "python3"
  },
  "language_info": {
   "codemirror_mode": {
    "name": "ipython",
    "version": 3
   },
   "file_extension": ".py",
   "mimetype": "text/x-python",
   "name": "python",
   "nbconvert_exporter": "python",
   "pygments_lexer": "ipython3",
   "version": "3.11.7"
  }
 },
 "nbformat": 4,
 "nbformat_minor": 5
}
