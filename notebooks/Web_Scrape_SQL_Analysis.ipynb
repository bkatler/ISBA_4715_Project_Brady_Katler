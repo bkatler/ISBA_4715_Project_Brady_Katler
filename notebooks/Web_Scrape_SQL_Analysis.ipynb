{
 "cells": [
  {
   "cell_type": "code",
   "execution_count": 130,
   "id": "7c23d357-abfb-422c-a14f-79f0916064ee",
   "metadata": {},
   "outputs": [],
   "source": [
    "# Importing Libraries to Python - added MySQLdb to remove error when connecting to Database\n",
    "import pandas as pd\n",
    "from sqlalchemy import create_engine, text\n",
    "import pymysql"
   ]
  },
  {
   "cell_type": "code",
   "execution_count": 131,
   "id": "4a37b4c2-f4e3-4422-8018-28053509476e",
   "metadata": {},
   "outputs": [],
   "source": [
    "# Importing launch and vehicle data and uploading it into a Data Frame\n",
    "launch_data_df = pd.read_csv('launch_data_2024')"
   ]
  },
  {
   "cell_type": "code",
   "execution_count": 132,
   "id": "47b282a1-54dd-45e9-96fe-2035914145e0",
   "metadata": {},
   "outputs": [
    {
     "data": {
      "text/html": [
       "<div>\n",
       "<style scoped>\n",
       "    .dataframe tbody tr th:only-of-type {\n",
       "        vertical-align: middle;\n",
       "    }\n",
       "\n",
       "    .dataframe tbody tr th {\n",
       "        vertical-align: top;\n",
       "    }\n",
       "\n",
       "    .dataframe thead th {\n",
       "        text-align: right;\n",
       "    }\n",
       "</style>\n",
       "<table border=\"1\" class=\"dataframe\">\n",
       "  <thead>\n",
       "    <tr style=\"text-align: right;\">\n",
       "      <th></th>\n",
       "      <th>launch_id</th>\n",
       "      <th>launch_date</th>\n",
       "      <th>launch_location</th>\n",
       "      <th>launch_notes</th>\n",
       "    </tr>\n",
       "  </thead>\n",
       "  <tbody>\n",
       "    <tr>\n",
       "      <th>0</th>\n",
       "      <td>2023-001</td>\n",
       "      <td>03.01.2023</td>\n",
       "      <td>CC SLC-40</td>\n",
       "      <td>some satellites failed to separate</td>\n",
       "    </tr>\n",
       "    <tr>\n",
       "      <th>1</th>\n",
       "      <td>2023-002</td>\n",
       "      <td>08.01.2023</td>\n",
       "      <td>We LC-201</td>\n",
       "      <td>NaN</td>\n",
       "    </tr>\n",
       "    <tr>\n",
       "      <th>2</th>\n",
       "      <td>2023-003</td>\n",
       "      <td>09.01.2023</td>\n",
       "      <td>Jq LC-43/95B</td>\n",
       "      <td>NaN</td>\n",
       "    </tr>\n",
       "    <tr>\n",
       "      <th>3</th>\n",
       "      <td>2023-F01</td>\n",
       "      <td>09.01.2023</td>\n",
       "      <td>Nq RW12/30</td>\n",
       "      <td>Failed</td>\n",
       "    </tr>\n",
       "    <tr>\n",
       "      <th>4</th>\n",
       "      <td>2023-004</td>\n",
       "      <td>10.01.2023</td>\n",
       "      <td>CC SLC-40</td>\n",
       "      <td>NaN</td>\n",
       "    </tr>\n",
       "  </tbody>\n",
       "</table>\n",
       "</div>"
      ],
      "text/plain": [
       "  launch_id launch_date launch_location                        launch_notes\n",
       "0  2023-001  03.01.2023       CC SLC-40  some satellites failed to separate\n",
       "1  2023-002  08.01.2023       We LC-201                                 NaN\n",
       "2  2023-003  09.01.2023    Jq LC-43/95B                                 NaN\n",
       "3  2023-F01  09.01.2023      Nq RW12/30                              Failed\n",
       "4  2023-004  10.01.2023       CC SLC-40                                 NaN"
      ]
     },
     "execution_count": 132,
     "metadata": {},
     "output_type": "execute_result"
    }
   ],
   "source": [
    "#Previewing CSVs\n",
    "launch_data_df.head()"
   ]
  },
  {
   "cell_type": "code",
   "execution_count": 133,
   "id": "660bfbf7-2418-4b01-8a96-9a1d4e68cd7a",
   "metadata": {},
   "outputs": [],
   "source": [
    "#Database connection info\n",
    "raw_host = \"isba-dev-01.c5ow64oeey8b.us-east-1.rds.amazonaws.com\"\n",
    "raw_username = \"admin\"\n",
    "raw_password = \"isba_4715\"\n",
    "raw_schema = \"sql_project\"\n",
    "\n",
    "# Establish a connection to the MySQL database\n",
    "connection = pymysql.connect(\n",
    "    host=raw_host,\n",
    "    user=raw_username,\n",
    "    password=raw_password,\n",
    "    database=raw_schema\n",
    ")\n",
    "raw_engine = create_engine(f'mysql+pymysql://{raw_username}:{raw_password}@{raw_host}/{raw_schema}')"
   ]
  },
  {
   "cell_type": "code",
   "execution_count": 134,
   "id": "7358a523-3a9c-4e8c-b528-ca03cfcc06e2",
   "metadata": {},
   "outputs": [
    {
     "data": {
      "text/plain": [
       "223"
      ]
     },
     "execution_count": 134,
     "metadata": {},
     "output_type": "execute_result"
    }
   ],
   "source": [
    "#importing data into mysql\n",
    "table ='launch_data_2024'\n",
    "\n",
    "launch_data_df.to_sql(name=table, con=raw_engine, if_exists=\"replace\", index=False)"
   ]
  },
  {
   "cell_type": "markdown",
   "id": "a36f8644-8339-4a0c-a132-07b231d9872d",
   "metadata": {},
   "source": [
    "# Business Question: What are the top 5 locations in number of launches in 2023?"
   ]
  },
  {
   "cell_type": "code",
   "execution_count": 106,
   "id": "e01a94a5-8f5a-41d4-bf5f-ef11e4afb506",
   "metadata": {},
   "outputs": [
    {
     "data": {
      "text/html": [
       "<div>\n",
       "<style scoped>\n",
       "    .dataframe tbody tr th:only-of-type {\n",
       "        vertical-align: middle;\n",
       "    }\n",
       "\n",
       "    .dataframe tbody tr th {\n",
       "        vertical-align: top;\n",
       "    }\n",
       "\n",
       "    .dataframe thead th {\n",
       "        text-align: right;\n",
       "    }\n",
       "</style>\n",
       "<table border=\"1\" class=\"dataframe\">\n",
       "  <thead>\n",
       "    <tr style=\"text-align: right;\">\n",
       "      <th></th>\n",
       "      <th>launch_location</th>\n",
       "      <th>number_of_launches</th>\n",
       "    </tr>\n",
       "  </thead>\n",
       "  <tbody>\n",
       "    <tr>\n",
       "      <th>0</th>\n",
       "      <td>CC SLC-40</td>\n",
       "      <td>55</td>\n",
       "    </tr>\n",
       "    <tr>\n",
       "      <th>1</th>\n",
       "      <td>Va SLC-4E</td>\n",
       "      <td>28</td>\n",
       "    </tr>\n",
       "    <tr>\n",
       "      <th>2</th>\n",
       "      <td>Jq LC-43/94</td>\n",
       "      <td>15</td>\n",
       "    </tr>\n",
       "    <tr>\n",
       "      <th>3</th>\n",
       "      <td>CCK LC-39A</td>\n",
       "      <td>13</td>\n",
       "    </tr>\n",
       "    <tr>\n",
       "      <th>4</th>\n",
       "      <td>Xi LC-3</td>\n",
       "      <td>9</td>\n",
       "    </tr>\n",
       "  </tbody>\n",
       "</table>\n",
       "</div>"
      ],
      "text/plain": [
       "  launch_location  number_of_launches\n",
       "0       CC SLC-40                  55\n",
       "1       Va SLC-4E                  28\n",
       "2     Jq LC-43/94                  15\n",
       "3      CCK LC-39A                  13\n",
       "4         Xi LC-3                   9"
      ]
     },
     "execution_count": 106,
     "metadata": {},
     "output_type": "execute_result"
    }
   ],
   "source": [
    "# Running and storing SQL query\n",
    "sql_query = \"WITH launch_location_ranked AS(SELECT launch_location, COUNT(*) AS number_of_launches, ROW_NUMBER() OVER (ORDER BY COUNT(*) DESC) AS row_num FROM launch_data_2024 GROUP BY launch_location) SELECT launch_location, number_of_launches FROM launch_location_ranked WHERE row_num <= 5;\"\n",
    "\n",
    "# Read data from MySQL into a DataFrame\n",
    "df = pd.read_sql(sql_query, con=raw_engine)\n",
    "\n",
    "df\n",
    "\n",
    "## CC SLC-40 = America, Va SLC-4E = America, Jq LC = China, CCK = America, Xi = China"
   ]
  },
  {
   "cell_type": "markdown",
   "id": "f4202d5c-6b04-420d-b06c-6facad91a228",
   "metadata": {},
   "source": [
    "# Insight: American launch locations makes up 3 of the top 4 locations and almost 50% of total orbital launches in 2023 (US + China = 75% of total orbintal launches in 2023)\n",
    "\n",
    "# Recommendation: Try to sign contracts + sell to these top locations and countries (would expect places with most launches have the highest demand)\n",
    "\n",
    "# Prediction: Increased profits"
   ]
  },
  {
   "cell_type": "code",
   "execution_count": 107,
   "id": "b904d9bb-1a8d-4d51-ad8c-e3d2abc0366f",
   "metadata": {},
   "outputs": [],
   "source": [
    "# Importing launch and vehicle data and uploading it into a Data Frame\n",
    "vehicle_data_df = pd.read_csv('vehicle_data_2024')"
   ]
  },
  {
   "cell_type": "code",
   "execution_count": 108,
   "id": "12d8e3d4-ffb6-420c-b6c9-1f0d1305d036",
   "metadata": {},
   "outputs": [
    {
     "data": {
      "text/html": [
       "<div>\n",
       "<style scoped>\n",
       "    .dataframe tbody tr th:only-of-type {\n",
       "        vertical-align: middle;\n",
       "    }\n",
       "\n",
       "    .dataframe tbody tr th {\n",
       "        vertical-align: top;\n",
       "    }\n",
       "\n",
       "    .dataframe thead th {\n",
       "        text-align: right;\n",
       "    }\n",
       "</style>\n",
       "<table border=\"1\" class=\"dataframe\">\n",
       "  <thead>\n",
       "    <tr style=\"text-align: right;\">\n",
       "      <th></th>\n",
       "      <th>vehicle_id</th>\n",
       "      <th>vehicle_launched</th>\n",
       "    </tr>\n",
       "  </thead>\n",
       "  <tbody>\n",
       "    <tr>\n",
       "      <th>0</th>\n",
       "      <td>2023-001</td>\n",
       "      <td>Falcon-9 v1.2 (Block 5)</td>\n",
       "    </tr>\n",
       "    <tr>\n",
       "      <th>1</th>\n",
       "      <td>2023-002</td>\n",
       "      <td>CZ-7A</td>\n",
       "    </tr>\n",
       "    <tr>\n",
       "      <th>2</th>\n",
       "      <td>2023-003</td>\n",
       "      <td>Ceres-1 (3) (Gushenxing-1 (3))</td>\n",
       "    </tr>\n",
       "    <tr>\n",
       "      <th>3</th>\n",
       "      <td>2023-F01</td>\n",
       "      <td>LauncherOne</td>\n",
       "    </tr>\n",
       "    <tr>\n",
       "      <th>4</th>\n",
       "      <td>2023-004</td>\n",
       "      <td>Falcon-9 v1.2 (Block 5)</td>\n",
       "    </tr>\n",
       "  </tbody>\n",
       "</table>\n",
       "</div>"
      ],
      "text/plain": [
       "  vehicle_id                vehicle_launched\n",
       "0   2023-001         Falcon-9 v1.2 (Block 5)\n",
       "1   2023-002                           CZ-7A\n",
       "2   2023-003  Ceres-1 (3) (Gushenxing-1 (3))\n",
       "3   2023-F01                     LauncherOne\n",
       "4   2023-004         Falcon-9 v1.2 (Block 5)"
      ]
     },
     "execution_count": 108,
     "metadata": {},
     "output_type": "execute_result"
    }
   ],
   "source": [
    "#Previewing CSVs\n",
    "vehicle_data_df.head()"
   ]
  },
  {
   "cell_type": "code",
   "execution_count": 109,
   "id": "e881ad9e-8b7e-4b80-8267-33a428d551c7",
   "metadata": {},
   "outputs": [
    {
     "data": {
      "text/plain": [
       "223"
      ]
     },
     "execution_count": 109,
     "metadata": {},
     "output_type": "execute_result"
    }
   ],
   "source": [
    "#Adding table to database\n",
    "table_2 ='vehicle_data_2024'\n",
    "\n",
    "vehicle_data_df.to_sql(name=table_2, con=raw_engine, if_exists=\"replace\", index=False)"
   ]
  },
  {
   "cell_type": "markdown",
   "id": "ba9bc2ea-b1e2-4a1c-b399-8ea1df3b3dc0",
   "metadata": {},
   "source": [
    "# Business Question: The Falcon-9 and CZ vehicle families make up roughly 2/3 of launches - which launch sites use them the most?"
   ]
  },
  {
   "cell_type": "code",
   "execution_count": 125,
   "id": "efc0e017-02b6-4a3f-8f6d-15f047113118",
   "metadata": {},
   "outputs": [
    {
     "data": {
      "text/html": [
       "<div>\n",
       "<style scoped>\n",
       "    .dataframe tbody tr th:only-of-type {\n",
       "        vertical-align: middle;\n",
       "    }\n",
       "\n",
       "    .dataframe tbody tr th {\n",
       "        vertical-align: top;\n",
       "    }\n",
       "\n",
       "    .dataframe thead th {\n",
       "        text-align: right;\n",
       "    }\n",
       "</style>\n",
       "<table border=\"1\" class=\"dataframe\">\n",
       "  <thead>\n",
       "    <tr style=\"text-align: right;\">\n",
       "      <th></th>\n",
       "      <th>launch_location</th>\n",
       "      <th>common_vehicle_launch</th>\n",
       "    </tr>\n",
       "  </thead>\n",
       "  <tbody>\n",
       "    <tr>\n",
       "      <th>0</th>\n",
       "      <td>CC SLC-40</td>\n",
       "      <td>55</td>\n",
       "    </tr>\n",
       "    <tr>\n",
       "      <th>1</th>\n",
       "      <td>Va SLC-4E</td>\n",
       "      <td>28</td>\n",
       "    </tr>\n",
       "    <tr>\n",
       "      <th>2</th>\n",
       "      <td>Jq LC-43/94</td>\n",
       "      <td>15</td>\n",
       "    </tr>\n",
       "    <tr>\n",
       "      <th>3</th>\n",
       "      <td>Xi LC-3</td>\n",
       "      <td>9</td>\n",
       "    </tr>\n",
       "    <tr>\n",
       "      <th>4</th>\n",
       "      <td>CCK LC-39A</td>\n",
       "      <td>8</td>\n",
       "    </tr>\n",
       "  </tbody>\n",
       "</table>\n",
       "</div>"
      ],
      "text/plain": [
       "  launch_location  common_vehicle_launch\n",
       "0       CC SLC-40                     55\n",
       "1       Va SLC-4E                     28\n",
       "2     Jq LC-43/94                     15\n",
       "3         Xi LC-3                      9\n",
       "4      CCK LC-39A                      8"
      ]
     },
     "execution_count": 125,
     "metadata": {},
     "output_type": "execute_result"
    }
   ],
   "source": [
    "#Running Query 2\n",
    "sql_query_2 = \"WITH common_vehicles AS (SELECT vehicle_id, vehicle_launched FROM vehicle_data_2024 vd WHERE vehicle_launched = 'Falcon-9 v1.2 (Block 5)' OR vehicle_launched LIKE 'CZ%%'), location_vehicle_raw AS (SELECT launch_location, COUNT(vehicle_launched) AS common_vehicle_launch, ROW_NUMBER() OVER (ORDER BY COUNT(*) DESC) AS row_num FROM common_vehicles cv JOIN launch_data_2024 ld ON cv.vehicle_id = ld.launch_id GROUP BY launch_location ORDER BY common_vehicle_launch DESC) SELECT launch_location, common_vehicle_launch FROM location_vehicle_raw WHERE row_num <= 5;\"\n",
    "\n",
    "# Try running the query with pandas\n",
    "df_2 = pd.read_sql(sql_query_2, con=raw_engine)\n",
    "\n",
    "df_2\n",
    "\n",
    "#CC SLC-40 (55), Va SLC-4E (28), Jq LC-43/94 (15), Xi LC-3 (9), CCK LC-39A (8)\n"
   ]
  },
  {
   "cell_type": "markdown",
   "id": "e38fb575-a886-4cf8-8f9a-3881f33b1bdd",
   "metadata": {},
   "source": [
    "# Insights: This list is almost the exact same as the list of most launched stations (which makes sense)\n",
    "\n",
    "# Recommendation: Get contracts selling the most common vehicles to these 3-5 launch sites\n",
    "\n",
    "# Prediction: Increased profits"
   ]
  }
 ],
 "metadata": {
  "kernelspec": {
   "display_name": "Python 3 (ipykernel)",
   "language": "python",
   "name": "python3"
  },
  "language_info": {
   "codemirror_mode": {
    "name": "ipython",
    "version": 3
   },
   "file_extension": ".py",
   "mimetype": "text/x-python",
   "name": "python",
   "nbconvert_exporter": "python",
   "pygments_lexer": "ipython3",
   "version": "3.11.7"
  }
 },
 "nbformat": 4,
 "nbformat_minor": 5
}
